{
 "cells": [
  {
   "cell_type": "code",
   "execution_count": null,
   "metadata": {},
   "outputs": [],
   "source": [
    "from math import log2\n",
    "import essentia.standard\n",
    "import numpy as np\n",
    "from collections import Counter\n",
    "import os\n",
    "from time import time\n",
    "from collections import OrderedDict\n",
    "from essentia.pytools.spectral import hpcpgram"
   ]
  },
  {
   "cell_type": "code",
   "execution_count": null,
   "metadata": {},
   "outputs": [],
   "source": [
    "melodies_path = 'dataset/chromas_hpcp/vocals_spleeter/'\n",
    "#melodies_path = 'dataset/chromas_hpcp/vocals_demucs/'\n",
    "#melodies_path = 'dataset2/chromas_hpcp/vocals_spleeter/'\n",
    "#melodies_path = 'dataset2/chromas_hpcp/vocals_demucs/'\n",
    "hummings_path = 'dataset/hummings/'\n",
    "melodies = os.listdir(melodies_path)\n",
    "hummings = os.listdir(hummings_path)"
   ]
  },
  {
   "cell_type": "code",
   "execution_count": null,
   "metadata": {},
   "outputs": [],
   "source": [
    "def compute_similarity(_chroma, _chroma_db):\n",
    "    _crp = essentia.standard.ChromaCrossSimilarity()\n",
    "    _crp_matrix = _crp(_chroma, _chroma_db)\n",
    "    _score_matrix, _distance = essentia.standard.CoverSongSimilarity()(_crp_matrix)\n",
    "    return _distance"
   ]
  },
  {
   "cell_type": "code",
   "execution_count": null,
   "metadata": {
    "scrolled": true
   },
   "outputs": [],
   "source": [
    "numerador_MRR = 0\n",
    "numerador_TOP20 = 0\n",
    "numerador_TOP15 = 0\n",
    "numerador_TOP10 = 0\n",
    "numerador_TOP5 = 0\n",
    "numerador_TOP1 = 0\n",
    "denominador = 0\n",
    "tiempo = 0\n",
    "for hum in hummings:\n",
    "    denominador += 1\n",
    "    results = {}\n",
    "    print(\"........\" + hum + \"........\")\n",
    "    print(\"----------\")\n",
    "    start_time=time()\n",
    "    loader = essentia.standard.EqloudLoader(filename = hummings_path + hum, sampleRate=44100)\n",
    "    audio = loader()\n",
    "    pitch_extractor = essentia.standard.PredominantPitchMelodia(frameSize=2048, hopSize=180)\n",
    "    pitch_values, _ = pitch_extractor(audio)\n",
    "    chroma = hpcpgram(pitch_values, sampleRate=44100, hopSize=50)\n",
    "    for melodie in melodies:\n",
    "        chroma_db = np.loadtxt(melodies_path + melodie)\n",
    "        results[melodie] = compute_similarity(chroma_db, chroma)\n",
    "    ordered_results = OrderedDict({k: v for k, v in sorted(results.items(), key=lambda item: item[1])})\n",
    "    tiempo += (time()-start_time)\n",
    "    for i, rank in enumerate(ordered_results.items()):\n",
    "        if hum.split('.')[0].split('+')[0] == rank[0].split('.')[0]:\n",
    "            numerador_MRR += (1/(i+1))\n",
    "            if (i+1) <= 1:\n",
    "                numerador_TOP1 += 1\n",
    "            if (i+1) <= 5:\n",
    "                numerador_TOP5 += 1\n",
    "            if (i+1) <= 10:\n",
    "                numerador_TOP10 += 1\n",
    "            if (i+1) <= 15:\n",
    "                numerador_TOP15 += 1\n",
    "            if (i+1) <= 20:\n",
    "                numerador_TOP20 += 1\n",
    "        print(i+1, rank[0], rank[1])\n",
    "        print(\"----------\")\n",
    "    print(\"================================\")\n",
    "mrr = numerador_MRR / denominador\n",
    "top1 = numerador_TOP1 / denominador * 100\n",
    "top5 = numerador_TOP5 / denominador * 100\n",
    "top10 = numerador_TOP10 / denominador * 100\n",
    "top15 = numerador_TOP15 / denominador * 100\n",
    "top20 = numerador_TOP20 / denominador * 100\n",
    "tiempo = tiempo / denominador\n",
    "print('MRR: ', mrr)\n",
    "print('Top-1: ', top1)\n",
    "print('Top-5: ', top5)\n",
    "print('Top-10: ', top10)\n",
    "print('Top-15: ', top15)\n",
    "print('Top-20: ', top20)\n",
    "print('Tiempo: ', tiempo)"
   ]
  }
 ],
 "metadata": {
  "kernelspec": {
   "display_name": "Python 3",
   "language": "python",
   "name": "python3"
  },
  "language_info": {
   "codemirror_mode": {
    "name": "ipython",
    "version": 3
   },
   "file_extension": ".py",
   "mimetype": "text/x-python",
   "name": "python",
   "nbconvert_exporter": "python",
   "pygments_lexer": "ipython3",
   "version": "3.7.9"
  }
 },
 "nbformat": 4,
 "nbformat_minor": 4
}
