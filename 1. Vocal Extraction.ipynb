{
 "cells": [
  {
   "cell_type": "markdown",
   "metadata": {},
   "source": [
    "This notebook expects the \"sources\" variable to point to a folder with the songs (mp3 or wav) that will be processed. For each song, a new folder (with the name of each song) will be created with two files (vocals.wav and accompaniments.wav), all of this is done by Spleeter (https://github.com/deezer/spleeter). For organization purposes, we then rename all vocals.wav and accompaniment.wav files to match their source names and then move them to the vocals and accompaniments folders already that already exist.\n",
    "\n",
    "Finally, this process must be run once per every musical collection."
   ]
  },
  {
   "cell_type": "markdown",
   "metadata": {},
   "source": [
    "To use Demucs, we recommend following the official instructions: https://github.com/facebookresearch/demucs and then run this command to process the music files (and replace the output folder):\n",
    "\n",
    "```bash\n",
    "for %f in (toExtract/*) do (python.exe -m demucs.separate --dl -n demucs -d cuda --mp3  toExtract/\"%f\")\n",
    "```"
   ]
  },
  {
   "cell_type": "code",
   "execution_count": null,
   "metadata": {},
   "outputs": [],
   "source": [
    "from spleeter.separator import Separator\n",
    "import os"
   ]
  },
  {
   "cell_type": "code",
   "execution_count": null,
   "metadata": {},
   "outputs": [],
   "source": [
    "separator = Separator('spleeter:2stems')"
   ]
  },
  {
   "cell_type": "code",
   "execution_count": null,
   "metadata": {},
   "outputs": [],
   "source": [
    "sources = os.listdir('dataset/sources/')\n",
    "#sources = os.listdir('dataset2/sources/')"
   ]
  },
  {
   "cell_type": "code",
   "execution_count": null,
   "metadata": {
    "scrolled": true
   },
   "outputs": [],
   "source": [
    "for song in sources:\n",
    "    separator.separate_to_file('dataset/sources/' + song, 'dataset/results')"
   ]
  },
  {
   "cell_type": "code",
   "execution_count": null,
   "metadata": {},
   "outputs": [],
   "source": [
    "cwd = os.getcwd()\n",
    "\n",
    "for root, subdirs, files in os.walk('dataset/results/'):\n",
    "    separator = root.rfind('/')\n",
    "    songname = root[separator + 1:]\n",
    "\n",
    "    for file in files:\n",
    "        if (file == 'accompaniment.wav'):\n",
    "            source = os.path.join(cwd, root, file)\n",
    "            destination = os.path.join(cwd, 'dataset/results/accompaniments/', songname + '.wav')\n",
    "            os.rename(source, destination)\n",
    "        elif(file == 'vocals.wav'):\n",
    "            source = os.path.join(cwd, root, file)\n",
    "            destination = os.path.join(cwd, 'dataset/results/vocals_spleeter/', songname + '.wav')\n",
    "            os.rename(source, destination)"
   ]
  },
  {
   "cell_type": "code",
   "execution_count": null,
   "metadata": {},
   "outputs": [],
   "source": [
    "cwd = os.getcwd()\n",
    "\n",
    "for root, subdirs, files in os.walk('dataset/results/'):\n",
    "    separator = root.rfind('/')\n",
    "    songname = root[separator + 1:]\n",
    "    for file in files:\n",
    "        if(file == 'vocals.mp3'):\n",
    "            source = os.path.join(cwd, root, file)\n",
    "            destination = os.path.join(cwd, 'dataset/results/vocals_spleeter/', songname + '.mp3')\n",
    "            os.rename(source, destination)"
   ]
  }
 ],
 "metadata": {
  "kernelspec": {
   "display_name": "Python 3",
   "language": "python",
   "name": "python3"
  },
  "language_info": {
   "codemirror_mode": {
    "name": "ipython",
    "version": 3
   },
   "file_extension": ".py",
   "mimetype": "text/x-python",
   "name": "python",
   "nbconvert_exporter": "python",
   "pygments_lexer": "ipython3",
   "version": "3.7.9"
  }
 },
 "nbformat": 4,
 "nbformat_minor": 4
}
