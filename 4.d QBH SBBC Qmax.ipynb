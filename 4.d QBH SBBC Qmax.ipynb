{
 "cells": [
  {
   "cell_type": "code",
   "execution_count": null,
   "metadata": {},
   "outputs": [],
   "source": [
    "from math import log2\n",
    "import essentia.standard\n",
    "import numpy as np\n",
    "from collections import Counter\n",
    "import os\n",
    "from time import time\n",
    "from collections import OrderedDict\n",
    "import cover_similarity_measures as sims"
   ]
  },
  {
   "cell_type": "markdown",
   "metadata": {},
   "source": [
    "<h1>=====================================</h1>"
   ]
  },
  {
   "cell_type": "code",
   "execution_count": null,
   "metadata": {},
   "outputs": [],
   "source": [
    "def to_cents(song):\n",
    "    cents = []\n",
    "    for i, f in enumerate(song):\n",
    "        if song[i] > 0:\n",
    "            cents.append(1200 * log2(song[i]/55))\n",
    "        else:\n",
    "            cents.append(0)\n",
    "    return np.array(cents)"
   ]
  },
  {
   "cell_type": "code",
   "execution_count": null,
   "metadata": {},
   "outputs": [],
   "source": [
    "def to_semitones(cents):\n",
    "    semitones=[]\n",
    "    for i, f in enumerate(cents):\n",
    "        semitones.append(cents[i]//100)\n",
    "    return np.array(semitones)"
   ]
  },
  {
   "cell_type": "code",
   "execution_count": null,
   "metadata": {},
   "outputs": [],
   "source": [
    "def map_into_single_octave(semitones):\n",
    "    mapped=[]\n",
    "    min_n=1\n",
    "    max_n=12\n",
    "    min_d = np.min(semitones[np.nonzero(semitones)])\n",
    "    max_d= max(semitones)\n",
    "    for i, f in enumerate(semitones):\n",
    "        if semitones[i] > 0:\n",
    "            mapped.append(((semitones[i]-min_d)*(max_n-min_n))//(max_d-min_d)+min_n)\n",
    "        else:\n",
    "            mapped.append(0)\n",
    "    return np.array(mapped)"
   ]
  },
  {
   "cell_type": "code",
   "execution_count": null,
   "metadata": {},
   "outputs": [],
   "source": [
    "def get_histogram(pitch_class):\n",
    "    limitator=0\n",
    "    histogram=[]\n",
    "    while limitator < len(pitch_class):\n",
    "        frame=[]\n",
    "        ini=limitator\n",
    "        fin=ini+49\n",
    "        if(fin>len(pitch_class)-1):\n",
    "            fin=len(pitch_class)-1\n",
    "        counter=Counter(pitch_class[ini:fin])\n",
    "        for i in range(12):\n",
    "            frame.append(counter[i+1])\n",
    "        for x in range(len(frame)):\n",
    "            if frame[x] == 0:\n",
    "                continue\n",
    "            num = frame[x]-min(frame)\n",
    "            denom = max(frame)-min(frame)\n",
    "            frame[x] = num/denom\n",
    "        histogram.append(frame)\n",
    "        limitator+=50\n",
    "    return np.array(histogram, dtype=np.single)"
   ]
  },
  {
   "cell_type": "code",
   "execution_count": null,
   "metadata": {},
   "outputs": [],
   "source": [
    "def compute_descriptor(melody):\n",
    "    cents = to_cents(melody)\n",
    "    semitones = to_semitones(cents)\n",
    "    mapped = map_into_single_octave(semitones)\n",
    "    chroma = get_histogram(mapped)\n",
    "    return chroma"
   ]
  },
  {
   "cell_type": "code",
   "execution_count": null,
   "metadata": {},
   "outputs": [],
   "source": [
    "def compute_similarity(_chroma, _chroma_db):\n",
    "    _crp = essentia.standard.ChromaCrossSimilarity()\n",
    "    _crp_matrix = _crp(_chroma, _chroma_db)\n",
    "    _score_matrix, _distance = essentia.standard.CoverSongSimilarity()(_crp_matrix)\n",
    "    return _distance"
   ]
  },
  {
   "cell_type": "code",
   "execution_count": null,
   "metadata": {},
   "outputs": [],
   "source": [
    "def compute_similarity2(_chroma, _chroma_db):\n",
    "    sim_matrix = sims.cross_recurrent_plot(_chroma, _chroma_db)\n",
    "    qmax, cost_matrix = sims.qmax_measure(sim_matrix)\n",
    "    return qmax"
   ]
  },
  {
   "cell_type": "markdown",
   "metadata": {},
   "source": [
    "<h1>=====================================</h1>"
   ]
  },
  {
   "cell_type": "code",
   "execution_count": null,
   "metadata": {},
   "outputs": [],
   "source": [
    "melodies_path = 'dataset/chromas_sbbc/vocals_spleeter/'\n",
    "#melodies_path = 'dataset/chromas_sbbc/vocals_demucs/'\n",
    "#melodies_path = 'dataset2/chromas_sbbc/vocals_spleeter/'\n",
    "#melodies_path = 'dataset2/chromas_sbbc/vocals_demucs/'\n",
    "hummings_path = 'dataset/hummings/'\n",
    "#hummings_path = 'dataset2/hummings/'\n",
    "melodies = os.listdir(melodies_path)\n",
    "hummings = os.listdir(hummings_path)"
   ]
  },
  {
   "cell_type": "code",
   "execution_count": null,
   "metadata": {
    "scrolled": true
   },
   "outputs": [],
   "source": [
    "numerador_MRR = 0\n",
    "numerador_TOP20 = 0\n",
    "numerador_TOP15 = 0\n",
    "numerador_TOP10 = 0\n",
    "numerador_TOP5 = 0\n",
    "numerador_TOP1 = 0\n",
    "denominador = 0\n",
    "tiempo = 0\n",
    "for hum in hummings:\n",
    "    denominador += 1\n",
    "    results = {}\n",
    "    print(\"........\" + hum + \"........\")\n",
    "    print(\"----------\")\n",
    "    start_time=time()\n",
    "    loader = essentia.standard.EqloudLoader(filename = hummings_path + hum, sampleRate=44100)\n",
    "    audio = loader()\n",
    "    pitch_extractor = essentia.standard.PitchMelodia(frameSize=2048, hopSize=180)\n",
    "    pitch_values, _ = pitch_extractor(audio)\n",
    "    chroma = compute_descriptor(pitch_values)\n",
    "    for melodie in melodies:\n",
    "        chroma_db = np.loadtxt(melodies_path + melodie)\n",
    "        results[melodie] = compute_similarity(chroma_db, chroma)\n",
    "    ordered_results = OrderedDict({k: v for k, v in sorted(results.items(), key=lambda item: item[1])})\n",
    "    tiempo += (time()-start_time)\n",
    "    for i, rank in enumerate(ordered_results.items()):\n",
    "        if hum.split('.')[0].split('+')[0] == rank[0].split('.')[0]:\n",
    "            numerador_MRR += (1/(i+1))\n",
    "            if (i+1) <= 1:\n",
    "                numerador_TOP1 += 1\n",
    "            if (i+1) <= 5:\n",
    "                numerador_TOP5 += 1\n",
    "            if (i+1) <= 10:\n",
    "                numerador_TOP10 += 1\n",
    "            if (i+1) <= 15:\n",
    "                numerador_TOP15 += 1\n",
    "            if (i+1) <= 20:\n",
    "                numerador_TOP20 += 1\n",
    "        print(i+1, rank[0], rank[1])\n",
    "        print(\"----------\")\n",
    "    print(\"================================\")\n",
    "mrr = numerador_MRR / denominador\n",
    "top1 = numerador_TOP1 / denominador * 100\n",
    "top5 = numerador_TOP5 / denominador * 100\n",
    "top10 = numerador_TOP10 / denominador * 100\n",
    "top15 = numerador_TOP15 / denominador * 100\n",
    "top20 = numerador_TOP20 / denominador * 100\n",
    "tiempo = tiempo / denominador\n",
    "print('MRR: ', mrr)\n",
    "print('Top-1: ', top1)\n",
    "print('Top-5: ', top5)\n",
    "print('Top-10: ', top10)\n",
    "print('Top-15: ', top15)\n",
    "print('Top-20: ', top20)\n",
    "print('Tiempo: ', tiempo)"
   ]
  }
 ],
 "metadata": {
  "kernelspec": {
   "display_name": "Python 3",
   "language": "python",
   "name": "python3"
  },
  "language_info": {
   "codemirror_mode": {
    "name": "ipython",
    "version": 3
   },
   "file_extension": ".py",
   "mimetype": "text/x-python",
   "name": "python",
   "nbconvert_exporter": "python",
   "pygments_lexer": "ipython3",
   "version": "3.7.9"
  }
 },
 "nbformat": 4,
 "nbformat_minor": 4
}
