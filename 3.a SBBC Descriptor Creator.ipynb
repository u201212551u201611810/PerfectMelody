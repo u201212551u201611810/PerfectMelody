{
 "cells": [
  {
   "cell_type": "code",
   "execution_count": 1,
   "metadata": {},
   "outputs": [],
   "source": [
    "from math import log2\n",
    "import essentia.standard\n",
    "import numpy as np\n",
    "from collections import Counter\n",
    "import os"
   ]
  },
  {
   "cell_type": "markdown",
   "metadata": {},
   "source": [
    "<h1>=====================================</h1>"
   ]
  },
  {
   "cell_type": "code",
   "execution_count": 2,
   "metadata": {},
   "outputs": [],
   "source": [
    "def read_melody_files(filename):\n",
    "    with open(filename) as f:\n",
    "        _notes = f.read()\n",
    "\n",
    "    _notes = _notes.split(',')\n",
    "    return [float(i) for i in _notes]"
   ]
  },
  {
   "cell_type": "code",
   "execution_count": 3,
   "metadata": {},
   "outputs": [],
   "source": [
    "def to_cents(song):\n",
    "    cents = []\n",
    "    for i, f in enumerate(song):\n",
    "        if song[i] > 0:\n",
    "            cents.append(1200 * log2(song[i]/55))\n",
    "        else:\n",
    "            cents.append(0)\n",
    "    return np.array(cents)"
   ]
  },
  {
   "cell_type": "code",
   "execution_count": 4,
   "metadata": {},
   "outputs": [],
   "source": [
    "def to_semitones(cents):\n",
    "    semitones=[]\n",
    "    for i, f in enumerate(cents):\n",
    "        semitones.append(cents[i]//100)\n",
    "    return np.array(semitones)"
   ]
  },
  {
   "cell_type": "code",
   "execution_count": 5,
   "metadata": {},
   "outputs": [],
   "source": [
    "def map_into_single_octave(semitones):\n",
    "    mapped=[]\n",
    "    min_n=1\n",
    "    max_n=12\n",
    "    min_d = np.min(semitones[np.nonzero(semitones)])\n",
    "    max_d= max(semitones)\n",
    "    for i, f in enumerate(semitones):\n",
    "        if semitones[i] > 0:\n",
    "            mapped.append(((semitones[i]-min_d)*(max_n-min_n))//(max_d-min_d)+min_n)\n",
    "        else:\n",
    "            mapped.append(0)\n",
    "    return np.array(mapped)"
   ]
  },
  {
   "cell_type": "code",
   "execution_count": 6,
   "metadata": {},
   "outputs": [],
   "source": [
    "def get_histogram(pitch_class):\n",
    "    limitator=0\n",
    "    histogram=[]\n",
    "    while limitator < len(pitch_class):\n",
    "        frame=[]\n",
    "        ini=limitator\n",
    "        fin=ini+49\n",
    "        if(fin>len(pitch_class)-1):\n",
    "            fin=len(pitch_class)-1\n",
    "        counter=Counter(pitch_class[ini:fin])\n",
    "        for i in range(12):\n",
    "            frame.append(counter[i+1])\n",
    "        for x in range(len(frame)):\n",
    "            if frame[x] == 0:\n",
    "                continue\n",
    "            num = frame[x]-min(frame)\n",
    "            denom = max(frame)-min(frame)\n",
    "            frame[x] = num/denom\n",
    "        histogram.append(frame)\n",
    "        limitator+=50\n",
    "    return np.array(histogram, dtype=np.single)"
   ]
  },
  {
   "cell_type": "code",
   "execution_count": 7,
   "metadata": {},
   "outputs": [],
   "source": [
    "def compute_descriptor(melody):\n",
    "    cents = to_cents(melody)\n",
    "    semitones = to_semitones(cents)\n",
    "    mapped = map_into_single_octave(semitones)\n",
    "    chroma = get_histogram(mapped)\n",
    "    return chroma"
   ]
  },
  {
   "cell_type": "markdown",
   "metadata": {},
   "source": [
    "<h1>=====================================</h1>"
   ]
  },
  {
   "cell_type": "code",
   "execution_count": 8,
   "metadata": {},
   "outputs": [],
   "source": [
    "melodies_path = 'dataset/melodies/vocals_spleeter/'\n",
    "#melodies_path = 'dataset/melodies/vocals_demucs/'\n",
    "#melodies_path = 'dataset/melodies/full_songs/'\n",
    "descriptors_path = 'dataset/chromas_sbbc/vocals/'\n",
    "melodies = os.listdir(melodies_path)"
   ]
  },
  {
   "cell_type": "code",
   "execution_count": 9,
   "metadata": {},
   "outputs": [],
   "source": [
    "for melody in melodies:\n",
    "    pitch_values = read_melody_files(melodies_path + melody)\n",
    "    chroma = compute_descriptor(pitch_values)\n",
    "    np.savetxt(descriptors_path + melody.split('.')[0] + '.txt', chroma)"
   ]
  }
 ],
 "metadata": {
  "kernelspec": {
   "display_name": "Python 3",
   "language": "python",
   "name": "python3"
  },
  "language_info": {
   "codemirror_mode": {
    "name": "ipython",
    "version": 3
   },
   "file_extension": ".py",
   "mimetype": "text/x-python",
   "name": "python",
   "nbconvert_exporter": "python",
   "pygments_lexer": "ipython3",
   "version": "3.7.9"
  }
 },
 "nbformat": 4,
 "nbformat_minor": 4
}
