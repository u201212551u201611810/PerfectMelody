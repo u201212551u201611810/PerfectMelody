{
 "cells": [
  {
   "cell_type": "code",
   "execution_count": 1,
   "metadata": {},
   "outputs": [],
   "source": [
    "import essentia.standard\n",
    "import numpy as np\n",
    "from essentia.pytools.spectral import hpcpgram\n",
    "import os"
   ]
  },
  {
   "cell_type": "code",
   "execution_count": 2,
   "metadata": {},
   "outputs": [],
   "source": [
    "def read_melody_files(filename):\n",
    "    with open(filename) as f:\n",
    "        _notes = f.read()\n",
    "\n",
    "    _notes = _notes.split(',')\n",
    "    return [float(i) for i in _notes]"
   ]
  },
  {
   "cell_type": "code",
   "execution_count": 3,
   "metadata": {},
   "outputs": [],
   "source": [
    "melodies_path = 'dataset/melodies/vocals_spleeter/'\n",
    "#melodies_path = 'dataset/melodies/vocals_demucs/'\n",
    "#melodies_path = 'dataset/melodies/full_songs/'\n",
    "melodies = os.listdir(melodies_path)"
   ]
  },
  {
   "cell_type": "code",
   "execution_count": 4,
   "metadata": {},
   "outputs": [],
   "source": [
    "for melody in melodies:\n",
    "    pitch_values = read_melody_files(melodies_path + melody)\n",
    "    chroma = hpcpgram(pitch_values, sampleRate=44100, hopSize=50)\n",
    "    np.savetxt('dataset/chromas_hpcp/vocals_spleeter/' + melody, chroma)"
   ]
  }
 ],
 "metadata": {
  "kernelspec": {
   "display_name": "Python 3",
   "language": "python",
   "name": "python3"
  },
  "language_info": {
   "codemirror_mode": {
    "name": "ipython",
    "version": 3
   },
   "file_extension": ".py",
   "mimetype": "text/x-python",
   "name": "python",
   "nbconvert_exporter": "python",
   "pygments_lexer": "ipython3",
   "version": "3.7.9"
  }
 },
 "nbformat": 4,
 "nbformat_minor": 4
}
